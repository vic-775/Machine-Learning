{
 "cells": [
  {
   "cell_type": "code",
   "execution_count": 1,
   "id": "f68cc9a0-bbc9-407e-98e9-cdc2b43a9240",
   "metadata": {},
   "outputs": [],
   "source": [
    "import pandas as pd\n",
    "import numpy as np\n",
    "import re\n",
    "from sklearn.feature_extraction.text import TfidfVectorizer\n",
    "from sklearn.metrics.pairwise import cosine_similarity\n",
    "from IPython.display import display\n",
    "import ipywidgets as widgets"
   ]
  },
  {
   "cell_type": "code",
   "execution_count": 2,
   "id": "45dec8c4-81d8-4a9e-ae11-938cda4b8bf6",
   "metadata": {},
   "outputs": [],
   "source": [
    "movies = pd.read_csv(r\"C:\\Users\\ATIMANGO\\Downloads\\movies (2).csv\")\n",
    "ratings = pd.read_csv(r\"C:\\Users\\ATIMANGO\\Downloads\\ratings (1).csv\")"
   ]
  },
  {
   "cell_type": "markdown",
   "id": "64abb0a2-3b90-4c21-8bd2-d07bc3202234",
   "metadata": {},
   "source": [
    "A SEARCH ENGINE"
   ]
  },
  {
   "cell_type": "code",
   "execution_count": 28,
   "id": "09cbaca2-44d4-4846-ab92-5f6a4e416f41",
   "metadata": {},
   "outputs": [
    {
     "data": {
      "text/html": [
       "<div>\n",
       "<style scoped>\n",
       "    .dataframe tbody tr th:only-of-type {\n",
       "        vertical-align: middle;\n",
       "    }\n",
       "\n",
       "    .dataframe tbody tr th {\n",
       "        vertical-align: top;\n",
       "    }\n",
       "\n",
       "    .dataframe thead th {\n",
       "        text-align: right;\n",
       "    }\n",
       "</style>\n",
       "<table border=\"1\" class=\"dataframe\">\n",
       "  <thead>\n",
       "    <tr style=\"text-align: right;\">\n",
       "      <th></th>\n",
       "      <th>movieId</th>\n",
       "      <th>title</th>\n",
       "      <th>genres</th>\n",
       "    </tr>\n",
       "  </thead>\n",
       "  <tbody>\n",
       "    <tr>\n",
       "      <th>0</th>\n",
       "      <td>1</td>\n",
       "      <td>Toy Story (1995)</td>\n",
       "      <td>Adventure|Animation|Children|Comedy|Fantasy</td>\n",
       "    </tr>\n",
       "    <tr>\n",
       "      <th>1</th>\n",
       "      <td>2</td>\n",
       "      <td>Jumanji (1995)</td>\n",
       "      <td>Adventure|Children|Fantasy</td>\n",
       "    </tr>\n",
       "    <tr>\n",
       "      <th>2</th>\n",
       "      <td>3</td>\n",
       "      <td>Grumpier Old Men (1995)</td>\n",
       "      <td>Comedy|Romance</td>\n",
       "    </tr>\n",
       "    <tr>\n",
       "      <th>3</th>\n",
       "      <td>4</td>\n",
       "      <td>Waiting to Exhale (1995)</td>\n",
       "      <td>Comedy|Drama|Romance</td>\n",
       "    </tr>\n",
       "    <tr>\n",
       "      <th>4</th>\n",
       "      <td>5</td>\n",
       "      <td>Father of the Bride Part II (1995)</td>\n",
       "      <td>Comedy</td>\n",
       "    </tr>\n",
       "  </tbody>\n",
       "</table>\n",
       "</div>"
      ],
      "text/plain": [
       "   movieId                               title  \\\n",
       "0        1                    Toy Story (1995)   \n",
       "1        2                      Jumanji (1995)   \n",
       "2        3             Grumpier Old Men (1995)   \n",
       "3        4            Waiting to Exhale (1995)   \n",
       "4        5  Father of the Bride Part II (1995)   \n",
       "\n",
       "                                        genres  \n",
       "0  Adventure|Animation|Children|Comedy|Fantasy  \n",
       "1                   Adventure|Children|Fantasy  \n",
       "2                               Comedy|Romance  \n",
       "3                         Comedy|Drama|Romance  \n",
       "4                                       Comedy  "
      ]
     },
     "execution_count": 28,
     "metadata": {},
     "output_type": "execute_result"
    }
   ],
   "source": [
    "movies.head()"
   ]
  },
  {
   "cell_type": "code",
   "execution_count": 29,
   "id": "d338eab3-fa2a-4226-a5e7-99870a6d6f61",
   "metadata": {},
   "outputs": [],
   "source": [
    "def clean(title):\n",
    "    return re.sub(\"[^a-zA-Z0-9 ]\",\"\", title)"
   ]
  },
  {
   "cell_type": "code",
   "execution_count": 30,
   "id": "356e4266-82c9-4cd6-b75a-e831ad247202",
   "metadata": {},
   "outputs": [
    {
     "data": {
      "text/html": [
       "<div>\n",
       "<style scoped>\n",
       "    .dataframe tbody tr th:only-of-type {\n",
       "        vertical-align: middle;\n",
       "    }\n",
       "\n",
       "    .dataframe tbody tr th {\n",
       "        vertical-align: top;\n",
       "    }\n",
       "\n",
       "    .dataframe thead th {\n",
       "        text-align: right;\n",
       "    }\n",
       "</style>\n",
       "<table border=\"1\" class=\"dataframe\">\n",
       "  <thead>\n",
       "    <tr style=\"text-align: right;\">\n",
       "      <th></th>\n",
       "      <th>movieId</th>\n",
       "      <th>title</th>\n",
       "      <th>genres</th>\n",
       "      <th>Clean Tiltle</th>\n",
       "    </tr>\n",
       "  </thead>\n",
       "  <tbody>\n",
       "    <tr>\n",
       "      <th>0</th>\n",
       "      <td>1</td>\n",
       "      <td>Toy Story (1995)</td>\n",
       "      <td>Adventure|Animation|Children|Comedy|Fantasy</td>\n",
       "      <td>Toy Story 1995</td>\n",
       "    </tr>\n",
       "    <tr>\n",
       "      <th>1</th>\n",
       "      <td>2</td>\n",
       "      <td>Jumanji (1995)</td>\n",
       "      <td>Adventure|Children|Fantasy</td>\n",
       "      <td>Jumanji 1995</td>\n",
       "    </tr>\n",
       "    <tr>\n",
       "      <th>2</th>\n",
       "      <td>3</td>\n",
       "      <td>Grumpier Old Men (1995)</td>\n",
       "      <td>Comedy|Romance</td>\n",
       "      <td>Grumpier Old Men 1995</td>\n",
       "    </tr>\n",
       "    <tr>\n",
       "      <th>3</th>\n",
       "      <td>4</td>\n",
       "      <td>Waiting to Exhale (1995)</td>\n",
       "      <td>Comedy|Drama|Romance</td>\n",
       "      <td>Waiting to Exhale 1995</td>\n",
       "    </tr>\n",
       "    <tr>\n",
       "      <th>4</th>\n",
       "      <td>5</td>\n",
       "      <td>Father of the Bride Part II (1995)</td>\n",
       "      <td>Comedy</td>\n",
       "      <td>Father of the Bride Part II 1995</td>\n",
       "    </tr>\n",
       "  </tbody>\n",
       "</table>\n",
       "</div>"
      ],
      "text/plain": [
       "   movieId                               title  \\\n",
       "0        1                    Toy Story (1995)   \n",
       "1        2                      Jumanji (1995)   \n",
       "2        3             Grumpier Old Men (1995)   \n",
       "3        4            Waiting to Exhale (1995)   \n",
       "4        5  Father of the Bride Part II (1995)   \n",
       "\n",
       "                                        genres  \\\n",
       "0  Adventure|Animation|Children|Comedy|Fantasy   \n",
       "1                   Adventure|Children|Fantasy   \n",
       "2                               Comedy|Romance   \n",
       "3                         Comedy|Drama|Romance   \n",
       "4                                       Comedy   \n",
       "\n",
       "                       Clean Tiltle  \n",
       "0                    Toy Story 1995  \n",
       "1                      Jumanji 1995  \n",
       "2             Grumpier Old Men 1995  \n",
       "3            Waiting to Exhale 1995  \n",
       "4  Father of the Bride Part II 1995  "
      ]
     },
     "execution_count": 30,
     "metadata": {},
     "output_type": "execute_result"
    }
   ],
   "source": [
    "movies[\"Clean Tiltle\"] = movies[\"title\"].apply(clean)\n",
    "movies.head()"
   ]
  },
  {
   "cell_type": "code",
   "execution_count": 31,
   "id": "163062f4-4593-4276-a2d9-bf4678f806cb",
   "metadata": {},
   "outputs": [],
   "source": [
    "vectorizer = TfidfVectorizer(ngram_range = (1,2))\n",
    "tfidf = vectorizer.fit_transform(movies[\"Clean Tiltle\"])"
   ]
  },
  {
   "cell_type": "code",
   "execution_count": 32,
   "id": "55ef4046-a965-4117-9b33-fe05369cfe93",
   "metadata": {},
   "outputs": [],
   "source": [
    "def search(title):\n",
    "    title = clean(title)\n",
    "    query_vec = vectorizer.transform([title])\n",
    "    similarity = cosine_similarity(query_vec, tfidf).flatten()\n",
    "    indicies = np.argpartition(similarity, -5)[-5:]\n",
    "    results = movies.iloc[indicies][::-1]\n",
    "    return results"
   ]
  },
  {
   "cell_type": "code",
   "execution_count": 33,
   "id": "4a27d4ba-a95a-4b33-8052-8b2771522c6b",
   "metadata": {},
   "outputs": [
    {
     "data": {
      "application/vnd.jupyter.widget-view+json": {
       "model_id": "9328dde90c274d199b43bd7870d9be71",
       "version_major": 2,
       "version_minor": 0
      },
      "text/plain": [
       "Text(value='', description='Movie input')"
      ]
     },
     "metadata": {},
     "output_type": "display_data"
    },
    {
     "data": {
      "application/vnd.jupyter.widget-view+json": {
       "model_id": "502adb6a919a41cfa0352e1b12473c46",
       "version_major": 2,
       "version_minor": 0
      },
      "text/plain": [
       "Output()"
      ]
     },
     "metadata": {},
     "output_type": "display_data"
    }
   ],
   "source": [
    "movie_input = widgets.Text(\n",
    "    description = \"Movie input\",\n",
    "    value = \"\",\n",
    "    disable = \"False\")\n",
    "movie_list = widgets.Output()\n",
    "def on_type(data):\n",
    "    with movie_list:\n",
    "        movie_list.clear_output()\n",
    "        title = data[\"new\"]\n",
    "        if len(title) > 2:\n",
    "            display(search(title))\n",
    "movie_input.observe(on_type, names=\"value\")\n",
    "display(movie_input, movie_list)"
   ]
  },
  {
   "cell_type": "markdown",
   "id": "7ca699e1-0385-46ad-8857-c39e86aedc41",
   "metadata": {},
   "source": [
    "RECOMEMDATION SYSTEM"
   ]
  },
  {
   "cell_type": "code",
   "execution_count": 3,
   "id": "65d53ec1-7f86-4ead-aa9b-9339b0e8407d",
   "metadata": {},
   "outputs": [
    {
     "data": {
      "text/html": [
       "<div>\n",
       "<style scoped>\n",
       "    .dataframe tbody tr th:only-of-type {\n",
       "        vertical-align: middle;\n",
       "    }\n",
       "\n",
       "    .dataframe tbody tr th {\n",
       "        vertical-align: top;\n",
       "    }\n",
       "\n",
       "    .dataframe thead th {\n",
       "        text-align: right;\n",
       "    }\n",
       "</style>\n",
       "<table border=\"1\" class=\"dataframe\">\n",
       "  <thead>\n",
       "    <tr style=\"text-align: right;\">\n",
       "      <th></th>\n",
       "      <th>userId</th>\n",
       "      <th>movieId</th>\n",
       "      <th>rating</th>\n",
       "      <th>timestamp</th>\n",
       "    </tr>\n",
       "  </thead>\n",
       "  <tbody>\n",
       "    <tr>\n",
       "      <th>0</th>\n",
       "      <td>1</td>\n",
       "      <td>31</td>\n",
       "      <td>2.5</td>\n",
       "      <td>1260759144</td>\n",
       "    </tr>\n",
       "    <tr>\n",
       "      <th>1</th>\n",
       "      <td>1</td>\n",
       "      <td>1029</td>\n",
       "      <td>3.0</td>\n",
       "      <td>1260759179</td>\n",
       "    </tr>\n",
       "    <tr>\n",
       "      <th>2</th>\n",
       "      <td>1</td>\n",
       "      <td>1061</td>\n",
       "      <td>3.0</td>\n",
       "      <td>1260759182</td>\n",
       "    </tr>\n",
       "    <tr>\n",
       "      <th>3</th>\n",
       "      <td>1</td>\n",
       "      <td>1129</td>\n",
       "      <td>2.0</td>\n",
       "      <td>1260759185</td>\n",
       "    </tr>\n",
       "    <tr>\n",
       "      <th>4</th>\n",
       "      <td>1</td>\n",
       "      <td>1172</td>\n",
       "      <td>4.0</td>\n",
       "      <td>1260759205</td>\n",
       "    </tr>\n",
       "  </tbody>\n",
       "</table>\n",
       "</div>"
      ],
      "text/plain": [
       "   userId  movieId  rating   timestamp\n",
       "0       1       31     2.5  1260759144\n",
       "1       1     1029     3.0  1260759179\n",
       "2       1     1061     3.0  1260759182\n",
       "3       1     1129     2.0  1260759185\n",
       "4       1     1172     4.0  1260759205"
      ]
     },
     "execution_count": 3,
     "metadata": {},
     "output_type": "execute_result"
    }
   ],
   "source": [
    "ratings.head()"
   ]
  },
  {
   "cell_type": "code",
   "execution_count": 6,
   "id": "499cb457-a77f-4793-a039-7ecbf59a8c2a",
   "metadata": {},
   "outputs": [],
   "source": [
    "#userids who watched and liked a movieid = 1\n",
    "movieid = 1\n",
    "a_movieid = ratings [ (ratings[\"movieId\"] == movieid) & (ratings[\"rating\"] >= 4) ][\"userId\"].unique()"
   ]
  },
  {
   "cell_type": "code",
   "execution_count": 9,
   "id": "200ed646-e2c8-433c-93f9-f4391f8c0c00",
   "metadata": {},
   "outputs": [],
   "source": [
    "#userids who watched and liked a movieid = 1, other movies they like by rating >= 4\n",
    "a_movieid_recs = ratings [ (ratings[\"userId\"].isin(a_movieid)) & (ratings[\"rating\"] >= 4) ][\"movieId\"]"
   ]
  },
  {
   "cell_type": "code",
   "execution_count": 11,
   "id": "257eab4f-0bb8-4dcf-92e0-d5a92d2c708d",
   "metadata": {},
   "outputs": [],
   "source": [
    "a_movieid_recs = a_movieid_recs.value_counts() / len(a_movieid)"
   ]
  },
  {
   "cell_type": "code",
   "execution_count": 12,
   "id": "2cd6a401-1763-4bf2-9a75-c96ba507b379",
   "metadata": {},
   "outputs": [],
   "source": [
    "a_movieid_recs = a_movieid_recs[a_movieid_recs > .1]"
   ]
  },
  {
   "cell_type": "code",
   "execution_count": 17,
   "id": "a53a8eb7-a9fb-420d-9ef1-77c3adccc695",
   "metadata": {},
   "outputs": [],
   "source": [
    "#all mvoies apart from movieId = 1\n",
    "all_users = ratings [ ratings[\"movieId\"].isin(a_movieid_recs.index) & (ratings[\"rating\"] >= 4) ]"
   ]
  },
  {
   "cell_type": "code",
   "execution_count": 22,
   "id": "53b1b926-d480-4da4-8d6a-00205dddfffb",
   "metadata": {},
   "outputs": [
    {
     "data": {
      "text/plain": [
       "movieId\n",
       "318     0.415152\n",
       "296     0.381818\n",
       "356     0.380303\n",
       "593     0.362121\n",
       "260     0.351515\n",
       "          ...   \n",
       "2078    0.042424\n",
       "661     0.042424\n",
       "1485    0.040909\n",
       "348     0.037879\n",
       "1391    0.037879\n",
       "Name: count, Length: 276, dtype: float64"
      ]
     },
     "execution_count": 22,
     "metadata": {},
     "output_type": "execute_result"
    }
   ],
   "source": [
    "all_users_recs = all_users[\"movieId\"].value_counts() / len(all_users[\"userId\"].unique())\n",
    "all_users_recs"
   ]
  },
  {
   "cell_type": "code",
   "execution_count": 24,
   "id": "16015067-3b03-4359-8131-d7a4f2164a23",
   "metadata": {},
   "outputs": [
    {
     "data": {
      "text/html": [
       "<div>\n",
       "<style scoped>\n",
       "    .dataframe tbody tr th:only-of-type {\n",
       "        vertical-align: middle;\n",
       "    }\n",
       "\n",
       "    .dataframe tbody tr th {\n",
       "        vertical-align: top;\n",
       "    }\n",
       "\n",
       "    .dataframe thead th {\n",
       "        text-align: right;\n",
       "    }\n",
       "</style>\n",
       "<table border=\"1\" class=\"dataframe\">\n",
       "  <thead>\n",
       "    <tr style=\"text-align: right;\">\n",
       "      <th></th>\n",
       "      <th>similar</th>\n",
       "      <th>all</th>\n",
       "      <th>Score</th>\n",
       "    </tr>\n",
       "    <tr>\n",
       "      <th>movieId</th>\n",
       "      <th></th>\n",
       "      <th></th>\n",
       "      <th></th>\n",
       "    </tr>\n",
       "  </thead>\n",
       "  <tbody>\n",
       "    <tr>\n",
       "      <th>1</th>\n",
       "      <td>1.000000</td>\n",
       "      <td>0.240909</td>\n",
       "      <td>4.150943</td>\n",
       "    </tr>\n",
       "    <tr>\n",
       "      <th>78499</th>\n",
       "      <td>0.157233</td>\n",
       "      <td>0.048485</td>\n",
       "      <td>3.242925</td>\n",
       "    </tr>\n",
       "    <tr>\n",
       "      <th>3114</th>\n",
       "      <td>0.383648</td>\n",
       "      <td>0.119697</td>\n",
       "      <td>3.205159</td>\n",
       "    </tr>\n",
       "    <tr>\n",
       "      <th>2355</th>\n",
       "      <td>0.257862</td>\n",
       "      <td>0.081818</td>\n",
       "      <td>3.151642</td>\n",
       "    </tr>\n",
       "    <tr>\n",
       "      <th>1391</th>\n",
       "      <td>0.106918</td>\n",
       "      <td>0.037879</td>\n",
       "      <td>2.822642</td>\n",
       "    </tr>\n",
       "    <tr>\n",
       "      <th>...</th>\n",
       "      <td>...</td>\n",
       "      <td>...</td>\n",
       "      <td>...</td>\n",
       "    </tr>\n",
       "    <tr>\n",
       "      <th>2324</th>\n",
       "      <td>0.132075</td>\n",
       "      <td>0.110606</td>\n",
       "      <td>1.194107</td>\n",
       "    </tr>\n",
       "    <tr>\n",
       "      <th>79132</th>\n",
       "      <td>0.132075</td>\n",
       "      <td>0.116667</td>\n",
       "      <td>1.132075</td>\n",
       "    </tr>\n",
       "    <tr>\n",
       "      <th>1961</th>\n",
       "      <td>0.132075</td>\n",
       "      <td>0.118182</td>\n",
       "      <td>1.117562</td>\n",
       "    </tr>\n",
       "    <tr>\n",
       "      <th>1206</th>\n",
       "      <td>0.144654</td>\n",
       "      <td>0.133333</td>\n",
       "      <td>1.084906</td>\n",
       "    </tr>\n",
       "    <tr>\n",
       "      <th>1258</th>\n",
       "      <td>0.113208</td>\n",
       "      <td>0.104545</td>\n",
       "      <td>1.082855</td>\n",
       "    </tr>\n",
       "  </tbody>\n",
       "</table>\n",
       "<p>276 rows × 3 columns</p>\n",
       "</div>"
      ],
      "text/plain": [
       "          similar       all     Score\n",
       "movieId                              \n",
       "1        1.000000  0.240909  4.150943\n",
       "78499    0.157233  0.048485  3.242925\n",
       "3114     0.383648  0.119697  3.205159\n",
       "2355     0.257862  0.081818  3.151642\n",
       "1391     0.106918  0.037879  2.822642\n",
       "...           ...       ...       ...\n",
       "2324     0.132075  0.110606  1.194107\n",
       "79132    0.132075  0.116667  1.132075\n",
       "1961     0.132075  0.118182  1.117562\n",
       "1206     0.144654  0.133333  1.084906\n",
       "1258     0.113208  0.104545  1.082855\n",
       "\n",
       "[276 rows x 3 columns]"
      ]
     },
     "execution_count": 24,
     "metadata": {},
     "output_type": "execute_result"
    }
   ],
   "source": [
    "rec_percentages = pd.concat([a_movieid_recs, all_users_recs], axis =1)\n",
    "rec_percentages.columns = [\"similar\", \"all\"]\n",
    "rec_percentages[\"Score\"] = rec_percentages[\"similar\"] / rec_percentages[\"all\"]\n",
    "rec_percentages = rec_percentages.sort_values(\"Score\", ascending = False)\n",
    "rec_percentages"
   ]
  },
  {
   "cell_type": "code",
   "execution_count": 25,
   "id": "be6275c1-f0ed-465d-8bab-ab4cdbebf72f",
   "metadata": {},
   "outputs": [
    {
     "data": {
      "text/html": [
       "<div>\n",
       "<style scoped>\n",
       "    .dataframe tbody tr th:only-of-type {\n",
       "        vertical-align: middle;\n",
       "    }\n",
       "\n",
       "    .dataframe tbody tr th {\n",
       "        vertical-align: top;\n",
       "    }\n",
       "\n",
       "    .dataframe thead th {\n",
       "        text-align: right;\n",
       "    }\n",
       "</style>\n",
       "<table border=\"1\" class=\"dataframe\">\n",
       "  <thead>\n",
       "    <tr style=\"text-align: right;\">\n",
       "      <th></th>\n",
       "      <th>similar</th>\n",
       "      <th>all</th>\n",
       "      <th>Score</th>\n",
       "      <th>movieId</th>\n",
       "      <th>title</th>\n",
       "      <th>genres</th>\n",
       "    </tr>\n",
       "  </thead>\n",
       "  <tbody>\n",
       "    <tr>\n",
       "      <th>0</th>\n",
       "      <td>1.000000</td>\n",
       "      <td>0.240909</td>\n",
       "      <td>4.150943</td>\n",
       "      <td>1</td>\n",
       "      <td>Toy Story (1995)</td>\n",
       "      <td>Adventure|Animation|Children|Comedy|Fantasy</td>\n",
       "    </tr>\n",
       "    <tr>\n",
       "      <th>7556</th>\n",
       "      <td>0.157233</td>\n",
       "      <td>0.048485</td>\n",
       "      <td>3.242925</td>\n",
       "      <td>78499</td>\n",
       "      <td>Toy Story 3 (2010)</td>\n",
       "      <td>Adventure|Animation|Children|Comedy|Fantasy|IMAX</td>\n",
       "    </tr>\n",
       "    <tr>\n",
       "      <th>2506</th>\n",
       "      <td>0.383648</td>\n",
       "      <td>0.119697</td>\n",
       "      <td>3.205159</td>\n",
       "      <td>3114</td>\n",
       "      <td>Toy Story 2 (1999)</td>\n",
       "      <td>Adventure|Animation|Children|Comedy|Fantasy</td>\n",
       "    </tr>\n",
       "    <tr>\n",
       "      <th>1866</th>\n",
       "      <td>0.257862</td>\n",
       "      <td>0.081818</td>\n",
       "      <td>3.151642</td>\n",
       "      <td>2355</td>\n",
       "      <td>Bug's Life, A (1998)</td>\n",
       "      <td>Adventure|Animation|Children|Comedy</td>\n",
       "    </tr>\n",
       "    <tr>\n",
       "      <th>1129</th>\n",
       "      <td>0.106918</td>\n",
       "      <td>0.037879</td>\n",
       "      <td>2.822642</td>\n",
       "      <td>1391</td>\n",
       "      <td>Mars Attacks! (1996)</td>\n",
       "      <td>Action|Comedy|Sci-Fi</td>\n",
       "    </tr>\n",
       "    <tr>\n",
       "      <th>313</th>\n",
       "      <td>0.106918</td>\n",
       "      <td>0.037879</td>\n",
       "      <td>2.822642</td>\n",
       "      <td>348</td>\n",
       "      <td>Bullets Over Broadway (1994)</td>\n",
       "      <td>Comedy</td>\n",
       "    </tr>\n",
       "    <tr>\n",
       "      <th>1020</th>\n",
       "      <td>0.144654</td>\n",
       "      <td>0.054545</td>\n",
       "      <td>2.651992</td>\n",
       "      <td>1266</td>\n",
       "      <td>Unforgiven (1992)</td>\n",
       "      <td>Drama|Western</td>\n",
       "    </tr>\n",
       "    <tr>\n",
       "      <th>419</th>\n",
       "      <td>0.125786</td>\n",
       "      <td>0.048485</td>\n",
       "      <td>2.594340</td>\n",
       "      <td>471</td>\n",
       "      <td>Hudsucker Proxy, The (1994)</td>\n",
       "      <td>Comedy</td>\n",
       "    </tr>\n",
       "    <tr>\n",
       "      <th>567</th>\n",
       "      <td>0.106918</td>\n",
       "      <td>0.042424</td>\n",
       "      <td>2.520216</td>\n",
       "      <td>661</td>\n",
       "      <td>James and the Giant Peach (1996)</td>\n",
       "      <td>Adventure|Animation|Children|Fantasy|Musical</td>\n",
       "    </tr>\n",
       "    <tr>\n",
       "      <th>4610</th>\n",
       "      <td>0.295597</td>\n",
       "      <td>0.119697</td>\n",
       "      <td>2.469549</td>\n",
       "      <td>6377</td>\n",
       "      <td>Finding Nemo (2003)</td>\n",
       "      <td>Adventure|Animation|Children|Comedy</td>\n",
       "    </tr>\n",
       "  </tbody>\n",
       "</table>\n",
       "</div>"
      ],
      "text/plain": [
       "       similar       all     Score  movieId                             title  \\\n",
       "0     1.000000  0.240909  4.150943        1                  Toy Story (1995)   \n",
       "7556  0.157233  0.048485  3.242925    78499                Toy Story 3 (2010)   \n",
       "2506  0.383648  0.119697  3.205159     3114                Toy Story 2 (1999)   \n",
       "1866  0.257862  0.081818  3.151642     2355              Bug's Life, A (1998)   \n",
       "1129  0.106918  0.037879  2.822642     1391              Mars Attacks! (1996)   \n",
       "313   0.106918  0.037879  2.822642      348      Bullets Over Broadway (1994)   \n",
       "1020  0.144654  0.054545  2.651992     1266                 Unforgiven (1992)   \n",
       "419   0.125786  0.048485  2.594340      471       Hudsucker Proxy, The (1994)   \n",
       "567   0.106918  0.042424  2.520216      661  James and the Giant Peach (1996)   \n",
       "4610  0.295597  0.119697  2.469549     6377               Finding Nemo (2003)   \n",
       "\n",
       "                                                genres  \n",
       "0          Adventure|Animation|Children|Comedy|Fantasy  \n",
       "7556  Adventure|Animation|Children|Comedy|Fantasy|IMAX  \n",
       "2506       Adventure|Animation|Children|Comedy|Fantasy  \n",
       "1866               Adventure|Animation|Children|Comedy  \n",
       "1129                              Action|Comedy|Sci-Fi  \n",
       "313                                             Comedy  \n",
       "1020                                     Drama|Western  \n",
       "419                                             Comedy  \n",
       "567       Adventure|Animation|Children|Fantasy|Musical  \n",
       "4610               Adventure|Animation|Children|Comedy  "
      ]
     },
     "execution_count": 25,
     "metadata": {},
     "output_type": "execute_result"
    }
   ],
   "source": [
    "rec_percentages.head(10).merge(movies, left_index=True, right_on = \"movieId\")"
   ]
  },
  {
   "cell_type": "code",
   "execution_count": 35,
   "id": "eea8092a-3669-4b23-a619-cd6d80e1d351",
   "metadata": {},
   "outputs": [],
   "source": [
    "def find_similar_movies(movie_id):\n",
    "    a_movieid = ratings[ (ratings[\"movieId\"] == movie_id) & (ratings[\"rating\"] > 4) ][\"userId\"].unique()\n",
    "    a_movieid_recs = ratings[(ratings[\"userId\"].isin(a_movieid)) & (ratings[\"rating\"] > 4)]['movieId']\n",
    "    a_movieid_recs = a_movieid_recs.value_counts() / len (a_movieid)\n",
    "    a_movieid_recs = a_movieid_recs[a_movieid_recs > .1]\n",
    "    all_users = ratings[ (ratings[\"movieId\"].isin(a_movieid_recs.index)) & (ratings[\"rating\"] > 4) ]\n",
    "    all_users_recs = all_users[\"movieId\"].value_counts() / len(all_users[\"userId\"].unique())\n",
    "    rec_percentages = pd.concat([a_movieid_recs, all_users_recs], axis =1)\n",
    "    rec_percentages.columns = [\"similar\", \"all\"]\n",
    "    rec_percentages[\"Score\"] = rec_percentages[\"similar\"] / rec_percentages[\"all\"]\n",
    "    rec_percentages = rec_percentages.sort_values(\"Score\", ascending = False)\n",
    "    return rec_percentages.head(10).merge(movies, left_index=True, right_on = \"movieId\")[[\"Score\", \"title\", \"genres\"]]"
   ]
  },
  {
   "cell_type": "code",
   "execution_count": 37,
   "id": "2917d989-3f02-4a80-8f0d-ac65c2373c9b",
   "metadata": {},
   "outputs": [
    {
     "data": {
      "application/vnd.jupyter.widget-view+json": {
       "model_id": "c24d03bebdd8494a8c9c9dba26a8eaf9",
       "version_major": 2,
       "version_minor": 0
      },
      "text/plain": [
       "Text(value='', description='Movie Title')"
      ]
     },
     "metadata": {},
     "output_type": "display_data"
    },
    {
     "data": {
      "application/vnd.jupyter.widget-view+json": {
       "model_id": "2498c59dcbb448ac938d51a11e233e52",
       "version_major": 2,
       "version_minor": 0
      },
      "text/plain": [
       "Output()"
      ]
     },
     "metadata": {},
     "output_type": "display_data"
    }
   ],
   "source": [
    "movie_input_name = widgets.Text(\n",
    "    description = \"Movie Title\",\n",
    "    value = \"\",\n",
    "    disable = False\n",
    ")\n",
    "recommendation_list = widgets.Output()\n",
    "def on_type(data):\n",
    "    with recommendation_list:\n",
    "        recommendation_list.clear_output()\n",
    "        title = data[\"new\"]\n",
    "        if len (title) > 2:\n",
    "            results = search(title)\n",
    "            movie_id = results.iloc[0][\"movieId\"]\n",
    "            display(find_similar_movies(movie_id))\n",
    "movie_input_name.observe(on_type, names=\"value\")\n",
    "display(movie_input_name, recommendation_list) "
   ]
  },
  {
   "cell_type": "code",
   "execution_count": null,
   "id": "918d06d4-2233-42b8-a09e-e1ab4976c912",
   "metadata": {},
   "outputs": [],
   "source": []
  }
 ],
 "metadata": {
  "kernelspec": {
   "display_name": "Python 3 (ipykernel)",
   "language": "python",
   "name": "python3"
  },
  "language_info": {
   "codemirror_mode": {
    "name": "ipython",
    "version": 3
   },
   "file_extension": ".py",
   "mimetype": "text/x-python",
   "name": "python",
   "nbconvert_exporter": "python",
   "pygments_lexer": "ipython3",
   "version": "3.12.4"
  }
 },
 "nbformat": 4,
 "nbformat_minor": 5
}
